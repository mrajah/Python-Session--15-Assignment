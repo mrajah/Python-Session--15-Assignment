{
 "cells": [
  {
   "cell_type": "code",
   "execution_count": 8,
   "metadata": {
    "scrolled": true
   },
   "outputs": [
    {
     "name": "stdout",
     "output_type": "stream",
     "text": [
      "Average Rent they are paying 1158.3333333333333\n",
      "Variance 135416.66666666666\n",
      "std_dev from the avg rent they are paying 367.9900360969936\n"
     ]
    }
   ],
   "source": [
    "\"\"\"You survey households in your area to find the average rent they are paying. Find the\n",
    "standard deviation from the following data:\n",
    "$1550,$1700,$900,$850,$1000,$950.\"\"\"\n",
    "\n",
    "def find_mean(arr):\n",
    " return sum(arr)/len(arr)\n",
    "\n",
    "def find_variance(arr):\n",
    " variance = 0.0\n",
    " from math import sqrt\n",
    " \n",
    " mean = find_mean(arr)\n",
    " variance = sum((x - mean)**2 for x in arr) / (len(arr)-1)\n",
    " return variance\n",
    "\n",
    "def find_std_dev(arr):\n",
    " return find_variance(arr)**0.5\n",
    "\n",
    "arr = [1550,1700,900,850,1000,950]\n",
    "\n",
    "\n",
    "import statistics as stat\n",
    "print(str(\"Average Rent they are paying \" + str(stat.mean(arr))))\n",
    "print(str(\"Variance \" + str(stat.variance(arr))))\n",
    "print(str(\"std_dev from the avg rent they are paying \" + str(stat.stdev(arr))))"
   ]
  },
  {
   "cell_type": "code",
   "execution_count": 10,
   "metadata": {},
   "outputs": [
    {
     "name": "stdout",
     "output_type": "stream",
     "text": [
      "Calculation using custom method\n",
      "Mean 58.5\n",
      "variance 6219.9\n",
      "std_dev 78.86634263106157\n"
     ]
    }
   ],
   "source": [
    "\"\"\"Find the variance for the following set of data representing trees in California (heights in\n",
    "feet):\n",
    "3, 21, 98, 203, 17, 9\"\"\"\n",
    "\n",
    "def find_mean(arr):\n",
    " return sum(arr)/len(arr)\n",
    "\n",
    "def find_variance(arr):\n",
    " variance = 0.0\n",
    " from math import sqrt\n",
    " \n",
    " mean = find_mean(arr)\n",
    " variance = sum((x - mean)**2 for x in arr) / (len(arr)-1)\n",
    " return variance\n",
    "\n",
    "def find_std_dev(arr):\n",
    " return find_variance(arr)**0.5\n",
    "\n",
    "arr = [3, 21, 98, 203, 17, 9]\n",
    "\n",
    "print(\"Calculation using custom method\")\n",
    "print (\"Mean \" + str(find_mean(arr)))\n",
    "print (\"variance \" + str(find_variance(arr)))\n",
    "print(\"std_dev \" + str(find_std_dev(arr)))\n",
    "\n"
   ]
  },
  {
   "cell_type": "code",
   "execution_count": 7,
   "metadata": {},
   "outputs": [
    {
     "name": "stdout",
     "output_type": "stream",
     "text": [
      "Probability failed in one Sub : 0.10 \n",
      "Probability failed in two Sub : 0.07 \n",
      "Probability failed in one Sub : 0.03 \n"
     ]
    }
   ],
   "source": [
    "\"\"\"In a class on 100 students, 80 students passed in all subjects, 10 failed in one subject, 7\n",
    "failed in two subjects and 3 failed in three subjects. Find the probability distribution of\n",
    "the variable for number of subjects a student from the given class has failed in.\n",
    "\"\"\"\n",
    "class ProbabilityDistribution:\n",
    "    def __init__(self,sampleSapce):\n",
    "         self.sampleSpace=sampleSapce\n",
    "    def findProbabilityDistribution(self,noOfStudent):\n",
    "        return noOfStudent/self.sampleSpace\n",
    "class Test:\n",
    "    sampleSapce=100\n",
    "    obj=ProbabilityDistribution(sampleSapce) \n",
    "    print(\"Probability failed in one Sub : %.2f \" % obj.findProbabilityDistribution(10))\n",
    "    print(\"Probability failed in two Sub : %.2f \" % obj.findProbabilityDistribution(7))\n",
    "    print(\"Probability failed in one Sub : %.2f \" % obj.findProbabilityDistribution(3))"
   ]
  },
  {
   "cell_type": "code",
   "execution_count": null,
   "metadata": {},
   "outputs": [],
   "source": []
  }
 ],
 "metadata": {
  "kernelspec": {
   "display_name": "Python 3",
   "language": "python",
   "name": "python3"
  },
  "language_info": {
   "codemirror_mode": {
    "name": "ipython",
    "version": 3
   },
   "file_extension": ".py",
   "mimetype": "text/x-python",
   "name": "python",
   "nbconvert_exporter": "python",
   "pygments_lexer": "ipython3",
   "version": "3.6.5"
  }
 },
 "nbformat": 4,
 "nbformat_minor": 2
}
